{
 "cells": [
  {
   "cell_type": "code",
   "execution_count": null,
   "metadata": {
    "_cell_guid": "b1076dfc-b9ad-4769-8c92-a6c4dae69d19",
    "_uuid": "8f2839f25d086af736a60e9eeb907d3b93b6e0e5",
    "execution": {
     "iopub.execute_input": "2025-03-27T05:06:17.046650Z",
     "iopub.status.busy": "2025-03-27T05:06:17.046177Z",
     "iopub.status.idle": "2025-03-27T05:06:17.476994Z",
     "shell.execute_reply": "2025-03-27T05:06:17.475937Z",
     "shell.execute_reply.started": "2025-03-27T05:06:17.046596Z"
    },
    "trusted": true
   },
   "outputs": [],
   "source": [
    "import numpy as np # linear algebra\n",
    "import pandas as pd # data processing, CSV file I/O (e.g. pd.read_csv)\n",
    "\n",
    "import os\n",
    "for dirname, _, filenames in os.walk('/kaggle/input'):\n",
    "    for filename in filenames:\n",
    "        print(os.path.join(dirname, filename))"
   ]
  },
  {
   "cell_type": "code",
   "execution_count": null,
   "metadata": {
    "execution": {
     "iopub.execute_input": "2025-03-27T05:06:17.478667Z",
     "iopub.status.busy": "2025-03-27T05:06:17.478232Z",
     "iopub.status.idle": "2025-03-27T05:06:21.734207Z",
     "shell.execute_reply": "2025-03-27T05:06:21.733051Z",
     "shell.execute_reply.started": "2025-03-27T05:06:17.478634Z"
    },
    "trusted": true
   },
   "outputs": [],
   "source": [
    "!pip install transformers -q"
   ]
  },
  {
   "cell_type": "code",
   "execution_count": 6,
   "metadata": {
    "execution": {
     "iopub.execute_input": "2025-03-27T05:06:52.286555Z",
     "iopub.status.busy": "2025-03-27T05:06:52.286227Z",
     "iopub.status.idle": "2025-03-27T05:07:00.371327Z",
     "shell.execute_reply": "2025-03-27T05:07:00.370366Z",
     "shell.execute_reply.started": "2025-03-27T05:06:52.286530Z"
    },
    "trusted": true
   },
   "outputs": [
    {
     "name": "stderr",
     "output_type": "stream",
     "text": [
      "Device set to use cpu\n"
     ]
    },
    {
     "name": "stdout",
     "output_type": "stream",
     "text": [
      "Review 1:\n",
      "The product quality is amazing! Highly recommend it.\n",
      "Sentiment: POSITIVE\n",
      "Confidence: 1.00 \n",
      "\n",
      "Review 2:\n",
      "Worst experience ever! I will never buy from this store again.\n",
      "Sentiment: NEGATIVE\n",
      "Confidence: 1.00 \n",
      "\n",
      "Review 3:\n",
      "The service was okay, but it could have been better.\n",
      "Sentiment: NEGATIVE\n",
      "Confidence: 0.99 \n",
      "\n",
      "Review 4:\n",
      "Absolutely love it! Best purchase I've made this year.\n",
      "Sentiment: POSITIVE\n",
      "Confidence: 1.00 \n",
      "\n",
      "Review 5:\n",
      "The shipping took too long, and customer support was unhelpful.\n",
      "Sentiment: NEGATIVE\n",
      "Confidence: 1.00 \n",
      "\n"
     ]
    }
   ],
   "source": [
    "from transformers import pipeline\n",
    "\n",
    "sentiment_pipeline = pipeline(\"sentiment-analysis\", model=\"distilbert/distilbert-base-uncased-finetuned-sst-2-english\")\n",
    "\n",
    "reviews = [\n",
    "    \"The product quality is amazing! Highly recommend it.\",\n",
    "    \"Worst experience ever! I will never buy from this store again.\",\n",
    "    \"The service was okay, but it could have been better.\",\n",
    "    \"Absolutely love it! Best purchase I've made this year.\",\n",
    "    \"The shipping took too long, and customer support was unhelpful.\"\n",
    "]\n",
    "\n",
    "results = sentiment_pipeline(reviews)\n",
    "\n",
    "for index, (review, result) in enumerate(zip(reviews, results), start=1):\n",
    "    print(f\"Review {index}:\\n{review}\\nSentiment: {result['label']}\\nConfidence: {result['score']:.2f} \\n\")\n"
   ]
  },
  {
   "cell_type": "code",
   "execution_count": null,
   "metadata": {
    "trusted": true
   },
   "outputs": [],
   "source": []
  }
 ],
 "metadata": {
  "kernelspec": {
   "display_name": "base",
   "language": "python",
   "name": "python3"
  },
  "language_info": {
   "codemirror_mode": {
    "name": "ipython",
    "version": 3
   },
   "file_extension": ".py",
   "mimetype": "text/x-python",
   "name": "python",
   "nbconvert_exporter": "python",
   "pygments_lexer": "ipython3",
   "version": "3.12.4"
  }
 },
 "nbformat": 4,
 "nbformat_minor": 4
}
