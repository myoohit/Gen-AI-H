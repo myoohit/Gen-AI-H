{
 "cells": [
  {
   "cell_type": "code",
   "execution_count": null,
   "metadata": {
    "_cell_guid": "b1076dfc-b9ad-4769-8c92-a6c4dae69d19",
    "_uuid": "8f2839f25d086af736a60e9eeb907d3b93b6e0e5",
    "execution": {
     "iopub.execute_input": "2025-03-27T06:02:24.037331Z",
     "iopub.status.busy": "2025-03-27T06:02:24.036859Z",
     "iopub.status.idle": "2025-03-27T06:02:24.042698Z",
     "shell.execute_reply": "2025-03-27T06:02:24.041460Z",
     "shell.execute_reply.started": "2025-03-27T06:02:24.037284Z"
    },
    "trusted": true
   },
   "outputs": [],
   "source": [
    "import numpy as np # linear algebra\n",
    "import pandas as pd # data processing, CSV file I/O (e.g. pd.read_csv)\n",
    "\n",
    "import os\n",
    "for dirname, _, filenames in os.walk('/kaggle/input'):\n",
    "    for filename in filenames:\n",
    "        print(os.path.join(dirname, filename))"
   ]
  },
  {
   "cell_type": "code",
   "execution_count": 7,
   "metadata": {
    "execution": {
     "iopub.execute_input": "2025-03-27T06:02:24.044712Z",
     "iopub.status.busy": "2025-03-27T06:02:24.044197Z",
     "iopub.status.idle": "2025-03-27T06:02:28.698434Z",
     "shell.execute_reply": "2025-03-27T06:02:28.697125Z",
     "shell.execute_reply.started": "2025-03-27T06:02:24.044659Z"
    },
    "trusted": true
   },
   "outputs": [],
   "source": [
    "!pip install -q transformers"
   ]
  },
  {
   "cell_type": "code",
   "execution_count": 3,
   "metadata": {
    "execution": {
     "iopub.execute_input": "2025-05-29T16:32:37.582174Z",
     "iopub.status.busy": "2025-05-29T16:32:37.581450Z",
     "iopub.status.idle": "2025-05-29T16:32:37.588118Z",
     "shell.execute_reply": "2025-05-29T16:32:37.586630Z",
     "shell.execute_reply.started": "2025-05-29T16:32:37.582125Z"
    },
    "trusted": true
   },
   "outputs": [],
   "source": [
    "#model is replaced with siebert/sentiment-roberta-large-english.\n",
    "#previous model name is too long (distilbert/distilbert-base-uncased-finetuned-sst-2-english)"
   ]
  },
  {
   "cell_type": "code",
   "execution_count": 2,
   "metadata": {
    "execution": {
     "iopub.execute_input": "2025-05-29T16:28:11.608573Z",
     "iopub.status.busy": "2025-05-29T16:28:11.607883Z",
     "iopub.status.idle": "2025-05-29T16:28:25.283515Z",
     "shell.execute_reply": "2025-05-29T16:28:25.280546Z",
     "shell.execute_reply.started": "2025-05-29T16:28:11.608499Z"
    },
    "trusted": true
   },
   "outputs": [
    {
     "data": {
      "application/vnd.jupyter.widget-view+json": {
       "model_id": "4dd5e93ac92b4b4aa5a3f0d5fd7c8d2a",
       "version_major": 2,
       "version_minor": 0
      },
      "text/plain": [
       "config.json:   0%|          | 0.00/687 [00:00<?, ?B/s]"
      ]
     },
     "metadata": {},
     "output_type": "display_data"
    },
    {
     "data": {
      "application/vnd.jupyter.widget-view+json": {
       "model_id": "2fa84335039c406c8bb4d74cdc2314b5",
       "version_major": 2,
       "version_minor": 0
      },
      "text/plain": [
       "pytorch_model.bin:   0%|          | 0.00/1.42G [00:00<?, ?B/s]"
      ]
     },
     "metadata": {},
     "output_type": "display_data"
    },
    {
     "data": {
      "application/vnd.jupyter.widget-view+json": {
       "model_id": "aa9175b6f7fe4307aabc6256aa31e5ef",
       "version_major": 2,
       "version_minor": 0
      },
      "text/plain": [
       "tokenizer_config.json:   0%|          | 0.00/256 [00:00<?, ?B/s]"
      ]
     },
     "metadata": {},
     "output_type": "display_data"
    },
    {
     "data": {
      "application/vnd.jupyter.widget-view+json": {
       "model_id": "33d854bb824d46749a80bb509aa06070",
       "version_major": 2,
       "version_minor": 0
      },
      "text/plain": [
       "vocab.json:   0%|          | 0.00/798k [00:00<?, ?B/s]"
      ]
     },
     "metadata": {},
     "output_type": "display_data"
    },
    {
     "data": {
      "application/vnd.jupyter.widget-view+json": {
       "model_id": "dc90f87986d74d10bc65fbcc18bf24bf",
       "version_major": 2,
       "version_minor": 0
      },
      "text/plain": [
       "merges.txt:   0%|          | 0.00/456k [00:00<?, ?B/s]"
      ]
     },
     "metadata": {},
     "output_type": "display_data"
    },
    {
     "data": {
      "application/vnd.jupyter.widget-view+json": {
       "model_id": "a356d01f4fb54644b796923d772d96a2",
       "version_major": 2,
       "version_minor": 0
      },
      "text/plain": [
       "special_tokens_map.json:   0%|          | 0.00/150 [00:00<?, ?B/s]"
      ]
     },
     "metadata": {},
     "output_type": "display_data"
    },
    {
     "name": "stderr",
     "output_type": "stream",
     "text": [
      "Device set to use cpu\n"
     ]
    },
    {
     "name": "stdout",
     "output_type": "stream",
     "text": [
      "Review 1:\n",
      "The product quality is amazing! Highly recommend it.\n",
      "Sentiment: POSITIVE\n",
      "Confidence: 1.00 \n",
      "\n",
      "Review 2:\n",
      "Worst experience ever! I will never buy from this store again.\n",
      "Sentiment: NEGATIVE\n",
      "Confidence: 1.00 \n",
      "\n",
      "Review 3:\n",
      "The service was okay, but it could have been better.\n",
      "Sentiment: NEGATIVE\n",
      "Confidence: 1.00 \n",
      "\n",
      "Review 4:\n",
      "Absolutely love it! Best purchase I've made this year.\n",
      "Sentiment: POSITIVE\n",
      "Confidence: 1.00 \n",
      "\n",
      "Review 5:\n",
      "The shipping took too long, and customer support was unhelpful.\n",
      "Sentiment: NEGATIVE\n",
      "Confidence: 1.00 \n",
      "\n"
     ]
    }
   ],
   "source": [
    "from transformers import pipeline\n",
    "\n",
    "sentiment_pipeline = pipeline(\"sentiment-analysis\", model=\"siebert/sentiment-roberta-large-english\")\n",
    "\n",
    "reviews = [\n",
    "    \"The product quality is amazing! Highly recommend it.\",\n",
    "    \"Worst experience ever! I will never buy from this store again.\",\n",
    "    \"The service was okay, but it could have been better.\",\n",
    "    \"Absolutely love it! Best purchase I've made this year.\",\n",
    "    \"The shipping took too long, and customer support was unhelpful.\"\n",
    "]\n",
    "\n",
    "results = sentiment_pipeline(reviews)\n",
    "\n",
    "for index, (review, result) in enumerate(zip(reviews, results), start=1):\n",
    "    print(f\"Review {index}:\\n{review}\\nSentiment: {result['label']}\\nConfidence: {result['score']:.2f} \\n\")\n"
   ]
  }
 ],
 "metadata": {
  "kaggle": {
   "accelerator": "none",
   "dataSources": [],
   "dockerImageVersionId": 30918,
   "isGpuEnabled": false,
   "isInternetEnabled": true,
   "language": "python",
   "sourceType": "notebook"
  },
  "kernelspec": {
   "display_name": "Python 3",
   "language": "python",
   "name": "python3"
  },
  "language_info": {
   "codemirror_mode": {
    "name": "ipython",
    "version": 3
   },
   "file_extension": ".py",
   "mimetype": "text/x-python",
   "name": "python",
   "nbconvert_exporter": "python",
   "pygments_lexer": "ipython3",
   "version": "3.10.12"
  }
 },
 "nbformat": 4,
 "nbformat_minor": 4
}
