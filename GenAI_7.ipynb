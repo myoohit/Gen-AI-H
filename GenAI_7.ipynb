{
 "cells": [
  {
   "cell_type": "code",
   "execution_count": null,
   "metadata": {
    "_cell_guid": "b1076dfc-b9ad-4769-8c92-a6c4dae69d19",
    "_uuid": "8f2839f25d086af736a60e9eeb907d3b93b6e0e5",
    "trusted": true
   },
   "outputs": [],
   "source": [
    "import numpy as np # linear algebra\n",
    "import pandas as pd # data processing, CSV file I/O (e.g. pd.read_csv)\n",
    "import os\n",
    "\n",
    "for dirname, _, filenames in os.walk('/kaggle/input'):\n",
    "    for filename in filenames:\n",
    "        print(os.path.join(dirname, filename))"
   ]
  },
  {
   "cell_type": "code",
   "execution_count": 1,
   "metadata": {
    "execution": {
     "iopub.execute_input": "2025-05-29T13:45:11.413673Z",
     "iopub.status.busy": "2025-05-29T13:45:11.413378Z",
     "iopub.status.idle": "2025-05-29T13:46:20.687532Z",
     "shell.execute_reply": "2025-05-29T13:46:20.685876Z",
     "shell.execute_reply.started": "2025-05-29T13:45:11.413649Z"
    },
    "trusted": true
   },
   "outputs": [
    {
     "data": {
      "application/vnd.jupyter.widget-view+json": {
       "model_id": "d32c268279e04c25b76a840024bd26b6",
       "version_major": 2,
       "version_minor": 0
      },
      "text/plain": [
       "config.json:   0%|          | 0.00/1.58k [00:00<?, ?B/s]"
      ]
     },
     "metadata": {},
     "output_type": "display_data"
    },
    {
     "data": {
      "application/vnd.jupyter.widget-view+json": {
       "model_id": "56b891b771e54160a358d3200658ad75",
       "version_major": 2,
       "version_minor": 0
      },
      "text/plain": [
       "model.safetensors:   0%|          | 0.00/1.63G [00:00<?, ?B/s]"
      ]
     },
     "metadata": {},
     "output_type": "display_data"
    },
    {
     "data": {
      "application/vnd.jupyter.widget-view+json": {
       "model_id": "c0e4269e7a9d468693732fd3cd52fbd4",
       "version_major": 2,
       "version_minor": 0
      },
      "text/plain": [
       "generation_config.json:   0%|          | 0.00/363 [00:00<?, ?B/s]"
      ]
     },
     "metadata": {},
     "output_type": "display_data"
    },
    {
     "data": {
      "application/vnd.jupyter.widget-view+json": {
       "model_id": "eeee5be8924c4ce6b4b773d7a3dd9c4a",
       "version_major": 2,
       "version_minor": 0
      },
      "text/plain": [
       "vocab.json:   0%|          | 0.00/899k [00:00<?, ?B/s]"
      ]
     },
     "metadata": {},
     "output_type": "display_data"
    },
    {
     "data": {
      "application/vnd.jupyter.widget-view+json": {
       "model_id": "f60d9ba2916d4cbe9a63bd322f8c9ce9",
       "version_major": 2,
       "version_minor": 0
      },
      "text/plain": [
       "merges.txt:   0%|          | 0.00/456k [00:00<?, ?B/s]"
      ]
     },
     "metadata": {},
     "output_type": "display_data"
    },
    {
     "data": {
      "application/vnd.jupyter.widget-view+json": {
       "model_id": "07af6011037b4592b32a964d287f0925",
       "version_major": 2,
       "version_minor": 0
      },
      "text/plain": [
       "tokenizer.json:   0%|          | 0.00/1.36M [00:00<?, ?B/s]"
      ]
     },
     "metadata": {},
     "output_type": "display_data"
    },
    {
     "name": "stderr",
     "output_type": "stream",
     "text": [
      "Device set to use cpu\n"
     ]
    },
    {
     "name": "stdout",
     "output_type": "stream",
     "text": [
      "AI agents are autonomous entities that leverage artificial intelligence (AI) to perceive their environment. They make informed decisions and execute actions to achieve specific goals. AI agents are increasingly used in healthcare for diagnostics and personalized treatment. They are also used in finance for fraud detection and algorithmic trading.\n"
     ]
    }
   ],
   "source": [
    "!pip install transformers -q\n",
    "from transformers import pipeline\n",
    "summarizer = pipeline(\"summarization\", model = \"facebook/bart-large-cnn\")\n",
    "\n",
    "long_text =\"\"\"\n",
    "AI Agents are autonomous entities that leverage artificial intelligence (AI) to perceive their environment.\n",
    "They make informed decisions and execute actions to achieve specific goals.\n",
    "These agents can operate independently or collaboratively.\n",
    "They interact with other agents and complex systems to accomplish intricate tasks.\n",
    "Designed to simulate human-like intelligence, AI agents possess the capacity to solve complex problems.\n",
    "They adapt to dynamic changes and continuously learn from accumulated experience.\n",
    "They employ a diverse range of AI techniques, including machine learning algorithms.\n",
    "They use natural language processing for understanding and generating human language.\n",
    "They use computer vision for interpreting visual data.\n",
    "Their applications are rapidly expanding.\n",
    "They encompass virtual assistants and chatbots that provide personalized support.\n",
    "They include self-driving cars and autonomous vehicles that navigate complex traffic scenarios.\n",
    "They involve robotic systems that automate industrial processes.\n",
    "They include intelligent systems that optimize resource allocation.\n",
    "Key challenges in the development of AI agents involve ensuring safety and reliability.\n",
    "They also involve addressing ethical considerations surrounding their decision-making processes.\n",
    "And achieving robust performance in unpredictable and dynamic environments.\n",
    "Ongoing research focuses on creating agents that are not only intelligent but also reliable.\n",
    "They should also be explainable and beneficial.\n",
    "This ensures their seamless and responsible integration into diverse sectors of society.\n",
    "AI agents are increasingly used in healthcare for diagnostics and personalized treatment.\n",
    "They are used in finance for fraud detection and algorithmic trading.\n",
    "They are used in education for personalized learning experiences.\n",
    "They are used in entertainment for creating interactive content.\n",
    "The development of AI agents requires careful consideration of their impact on society.\n",
    "It is important to establish guidelines for their ethical use.\n",
    "This includes addressing issues of bias and fairness in their algorithms.\n",
    "And ensuring that they are transparent and accountable.\n",
    "The future of AI agents holds immense potential for innovation and progress.\n",
    "It is crucial to develop them responsibly and ethically.\n",
    "\"\"\"\n",
    "\n",
    "summary = summarizer(long_text, max_length = 150, min_length = 50, do_sample = False)\n",
    "print(summary[0]['summary_text'])"
   ]
  },
  {
   "cell_type": "code",
   "execution_count": null,
   "metadata": {
    "trusted": true
   },
   "outputs": [],
   "source": []
  }
 ],
 "metadata": {
  "kaggle": {
   "accelerator": "none",
   "dataSources": [],
   "dockerImageVersionId": 30918,
   "isGpuEnabled": false,
   "isInternetEnabled": true,
   "language": "python",
   "sourceType": "notebook"
  },
  "kernelspec": {
   "display_name": "Python 3",
   "language": "python",
   "name": "python3"
  },
  "language_info": {
   "codemirror_mode": {
    "name": "ipython",
    "version": 3
   },
   "file_extension": ".py",
   "mimetype": "text/x-python",
   "name": "python",
   "nbconvert_exporter": "python",
   "pygments_lexer": "ipython3",
   "version": "3.10.12"
  }
 },
 "nbformat": 4,
 "nbformat_minor": 4
}
