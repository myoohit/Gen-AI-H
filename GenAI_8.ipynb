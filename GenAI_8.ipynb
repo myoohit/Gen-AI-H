{
 "cells": [
  {
   "cell_type": "code",
   "execution_count": null,
   "metadata": {
    "_cell_guid": "b1076dfc-b9ad-4769-8c92-a6c4dae69d19",
    "_uuid": "8f2839f25d086af736a60e9eeb907d3b93b6e0e5",
    "execution": {
     "iopub.status.busy": "2025-05-29T13:19:10.809014Z",
     "iopub.status.idle": "2025-05-29T13:19:10.809670Z",
     "shell.execute_reply": "2025-05-29T13:19:10.809541Z",
     "shell.execute_reply.started": "2025-05-29T13:19:10.809526Z"
    },
    "trusted": true
   },
   "outputs": [],
   "source": [
    "import numpy as np # linear algebra\n",
    "import pandas as pd # data processing, CSV file I/O (e.g. pd.read_csv)\n",
    "\n",
    "import os\n",
    "for dirname, _, filenames in os.walk('/kaggle/input'):\n",
    "    for filename in filenames:\n",
    "        print(os.path.join(dirname, filename))"
   ]
  },
  {
   "cell_type": "code",
   "execution_count": 1,
   "metadata": {
    "execution": {
     "iopub.execute_input": "2025-05-29T15:52:39.404051Z",
     "iopub.status.busy": "2025-05-29T15:52:39.403800Z",
     "iopub.status.idle": "2025-05-29T15:53:09.369989Z",
     "shell.execute_reply": "2025-05-29T15:53:09.369028Z",
     "shell.execute_reply.started": "2025-05-29T15:52:39.404021Z"
    },
    "trusted": true
   },
   "outputs": [
    {
     "name": "stdout",
     "output_type": "stream",
     "text": [
      "\u001b[2K   \u001b[90m━━━━━━━━━━━━━━━━━━━━━━━━━━━━━━━━━━━━━━━━\u001b[0m \u001b[32m42.3/42.3 kB\u001b[0m \u001b[31m1.7 MB/s\u001b[0m eta \u001b[36m0:00:00\u001b[0m\n",
      "\u001b[2K   \u001b[90m━━━━━━━━━━━━━━━━━━━━━━━━━━━━━━━━━━━━━━━━\u001b[0m \u001b[32m259.5/259.5 kB\u001b[0m \u001b[31m7.7 MB/s\u001b[0m eta \u001b[36m0:00:00\u001b[0m\n",
      "\u001b[2K   \u001b[90m━━━━━━━━━━━━━━━━━━━━━━━━━━━━━━━━━━━━━━━━\u001b[0m \u001b[32m2.5/2.5 MB\u001b[0m \u001b[31m38.8 MB/s\u001b[0m eta \u001b[36m0:00:00\u001b[0m00:01\u001b[0m\n",
      "\u001b[2K   \u001b[90m━━━━━━━━━━━━━━━━━━━━━━━━━━━━━━━━━━━━━━━━\u001b[0m \u001b[32m1.0/1.0 MB\u001b[0m \u001b[31m29.5 MB/s\u001b[0m eta \u001b[36m0:00:00\u001b[0m:00:01\u001b[0m\n",
      "\u001b[2K   \u001b[90m━━━━━━━━━━━━━━━━━━━━━━━━━━━━━━━━━━━━━━━━\u001b[0m \u001b[32m438.4/438.4 kB\u001b[0m \u001b[31m19.6 MB/s\u001b[0m eta \u001b[36m0:00:00\u001b[0m\n",
      "\u001b[2K   \u001b[90m━━━━━━━━━━━━━━━━━━━━━━━━━━━━━━━━━━━━━━━━\u001b[0m \u001b[32m3.3/3.3 MB\u001b[0m \u001b[31m34.4 MB/s\u001b[0m eta \u001b[36m0:00:00\u001b[0m00:01\u001b[0m:00:01\u001b[0m\n",
      "\u001b[2K   \u001b[90m━━━━━━━━━━━━━━━━━━━━━━━━━━━━━━━━━━━━━━━━\u001b[0m \u001b[32m65.5/65.5 kB\u001b[0m \u001b[31m2.6 MB/s\u001b[0m eta \u001b[36m0:00:00\u001b[0m\n",
      "\u001b[2K   \u001b[90m━━━━━━━━━━━━━━━━━━━━━━━━━━━━━━━━━━━━━━━━\u001b[0m \u001b[32m44.4/44.4 kB\u001b[0m \u001b[31m2.0 MB/s\u001b[0m eta \u001b[36m0:00:00\u001b[0m\n",
      "\u001b[?25h\u001b[31mERROR: pip's dependency resolver does not currently take into account all the packages that are installed. This behaviour is the source of the following dependency conflicts.\n",
      "datasets 3.6.0 requires fsspec[http]<=2025.3.0,>=2023.1.0, but you have fsspec 2025.3.2 which is incompatible.\n",
      "cesium 0.12.4 requires numpy<3.0,>=2.0, but you have numpy 1.26.4 which is incompatible.\n",
      "bigframes 1.42.0 requires rich<14,>=12.4.4, but you have rich 14.0.0 which is incompatible.\n",
      "plotnine 0.14.5 requires matplotlib>=3.8.0, but you have matplotlib 3.7.2 which is incompatible.\n",
      "pandas-gbq 0.28.0 requires google-api-core<3.0.0dev,>=2.10.2, but you have google-api-core 1.34.1 which is incompatible.\n",
      "mlxtend 0.23.4 requires scikit-learn>=1.3.1, but you have scikit-learn 1.2.2 which is incompatible.\u001b[0m\u001b[31m\n",
      "\u001b[0m==== PROVIDED TEXT ====\n",
      "The Neural Nexus: How AI is Reshaping Neuroscience and Biological Tech\n",
      "\n",
      "The convergence of artificial intelligence (AI) with neuroscience, biotechnology, and the development of futuristic tech implants is forging a landscape that feels both exhilarating and, at times, like a leap into science fiction. We're witnessing a future where the boundaries between human biology and advanced technology blur, potentially leading to profound transformations in how we understand and interact with ourselves and the world. In neuroscience, AI is already proving invaluable, sifting through complex brain scan data to identify patterns invisible to the human eye. This revolutionizes our understanding of neurological disorders like Alzheimer's or Parkinson's, enabling earlier diagnoses and targeted treatments. AI also accelerates brain-computer interface (BCI) development, empowering individuals with paralysis to control prosthetics or communicate through thought. Beyond diagnostics and BCIs, AI models brain activity in unprecedented detail, simulating neural circuit interactions and their disruption by disease or injury, leading to targeted brain activity modulation for conditions like epilepsy or chronic pain. AI also aids connectomics, mapping intricate neural connections to understand information flow and disruptions in neurological disorders, potentially revolutionizing our understanding of consciousness and cognition.\n",
      "\n",
      "In biotechnology, AI accelerates drug discovery and development, analyzing vast biological datasets to predict molecular interactions, reducing time and cost. Personalized medicine, tailored to individual genetic makeup through AI analysis, is also emerging. AI revolutionizes synthetic biology, designing novel proteins and genetic circuits for biomaterials, biofuels, and living therapies. Imagine AI-designed bacteria targeting cancer cells or engineered plants producing sustainable fuels. AI also optimizes gene editing tools like CRISPR-Cas systems, predicting off-target effects and enhancing editing efficiency, enabling genetic defect correction and inherited disease prevention, though raising ethical concerns about germline editing.\n",
      "\n",
      "The realm of futuristic tech implants is where the most profound transformations occur. Neural interfaces enable direct brain communication, creating a form of telepathy. AI-powered implants enhance senses, perceiving information beyond normal human perception, like infrared or ultraviolet light. These implants provide real-time access to vast information, extending cognitive abilities, imagining learning a new language or skill through direct brain download. However, the ethical considerations are immense. Data privacy and security become paramount when thoughts and emotions are directly accessible. Cognitive enhancement raises fairness and equity concerns, questioning access and potential societal stratification. The impact on self and autonomy is a concern, as constant connection and influence by external systems raise questions about individuality and free will. The potential for surveillance and control is also a serious concern. We must ensure responsible development and use, respecting human rights and dignity. We must also be aware of unintended consequences, as brain or genome modifications can have unpredictable effects. Open and transparent dialogue involving scientists, ethicists, policymakers, and the public is crucial. Robust regulatory frameworks are needed to ensure responsible use for humanity's benefit. The future of AI in neuroscience, biotech, and tech implants holds immense promise, but demands careful consideration and a commitment to ethical principles.\n",
      "\n",
      "Let's delve deeper. AI's role is evolving from a diagnostic tool to a collaborative partner. Imagine AI algorithms actively participating in the design of personalized neurorehabilitation programs, analyzing real-time brain activity, and adjusting exercises to optimize recovery. We're also seeing AI-powered neuromodulation techniques, using targeted stimulation to alleviate symptoms of conditions like depression. AI is helping us map the brain's connectome, revealing intricate neural connections and prompting profound questions about consciousness and free will. In biotechnology, AI-powered virtual screening platforms are accelerating drug discovery and repurposing. AI is also revolutionizing synthetic biology, designing novel enzymes and synthetic organisms for various applications.\n",
      "\n",
      "And then, the futuristic tech implants, where the boundaries between human and machine truly begin to dissolve. We're talking about neural interfaces that allow for direct communication between brains, creating a form of telepathic communication. We're talking about AI-powered implants that enhance our senses, allowing us to perceive information beyond the range of normal human perception. And we're talking about cognitive implants that provide direct access to information and enhance our memory, attention, and learning abilities. It's like we're building a new kind of human, a hybrid of biology and technology. But this raises profound ethical questions. How do we ensure that these enhancements are accessible to everyone, and not just the privileged few? How do we prevent the creation of a new form of social inequality, where the \"enhanced\" have an even greater advantage over the \"unenhanced\"? And how do we maintain our sense of self and autonomy in a world where our minds are increasingly intertwined with technology?\n",
      "\n",
      "The ethical implications of these technologies are vast and complex. We're talking about data privacy on a whole new level, where our innermost thoughts and feelings could be accessible to others. We're talking about the potential for these technologies to be used for surveillance and control, to manipulate our thoughts and behaviors. And we're talking about the potential for unintended consequences, as we modify the brain and the genome in ways that we don't fully understand. We need to have open and honest conversations about the ethical implications of these technologies, involving not just scientists and engineers, but also ethicists, philosophers, and the public. We need to develop robust regulatory frameworks that ensure these technologies are used responsibly and equitably. We need to prioritize human rights and dignity, and ensure that these technologies serve the best interests of humanity. It's not about stopping progress, but about guiding it, about ensuring that we create a future where technology enhances our humanity, rather than diminishes it.\n",
      "\n",
      "==== MODEL RESPONSE ====\n",
      "Here’s a structured list of ways AI is reshaping neuroscience, extracted from the provided text:\n",
      "\n",
      "1. **Enhancing Brain Data Analysis**  \n",
      "   - Sifting through complex brain scan data to identify patterns invisible to the human eye.  \n",
      "   - Revolutionizing the understanding of neurological disorders like Alzheimer’s and Parkinson’s.  \n",
      "\n",
      "2. **Enabling Earlier Diagnoses and Targeted Treatments**  \n",
      "   - Facilitating earlier and more accurate diagnoses of neurological conditions.  \n",
      "   - Enabling targeted treatments by analyzing brain activity patterns.  \n",
      "\n",
      "3. **Advancing Brain-Computer Interfaces (BCIs)**  \n",
      "   - Accelerating BCI development to empower individuals with paralysis to control prosthetics or communicate through thought.  \n",
      "\n",
      "4. **Modeling Brain Activity**  \n",
      "   - Simulating neural circuit interactions and their disruption by disease or injury.  \n",
      "   - Enabling targeted brain activity modulation for conditions like epilepsy or chronic pain.  \n",
      "\n",
      "5. **Progressing Connectomics**  \n",
      "   - Mapping intricate neural connections to understand information flow and disruptions in neurological disorders.  \n",
      "   - Potentially revolutionizing the understanding of consciousness and cognition.  \n",
      "\n",
      "6. **Personalizing Neurorehabilitation**  \n",
      "   - Designing personalized neurorehabilitation programs by analyzing real-time brain activity and adjusting exercises for optimized recovery.  \n",
      "\n",
      "7. **AI-Powered Neuromodulation**  \n",
      "   - Using targeted stimulation to alleviate symptoms of conditions like depression.  \n",
      "\n",
      "8. **Mapping the Brain’s Connectome**  \n",
      "   - Revealing intricate neural connections and prompting profound questions about consciousness and free will.  \n",
      "\n",
      "9. **Collaborative Role in Neuroscience**  \n",
      "   - Evolving from a diagnostic tool to a collaborative partner in research and treatment design.  \n",
      "\n",
      "10. **Ethical and Societal Considerations**  \n",
      "    - Raising questions about data privacy, cognitive enhancement fairness, and the impact on self and autonomy.  \n",
      "    - Addressing concerns about surveillance, control, and unintended consequences of brain modifications.  \n",
      "\n",
      "11. **Promoting Open Dialogue and Regulation**  \n",
      "    - Emphasizing the need for open dialogue involving scientists, ethicists, policymakers, and the public.  \n",
      "    - Highlighting the importance of robust regulatory frameworks to ensure responsible use of AI in neuroscience.  \n",
      "\n",
      "These points encapsulate the multifaceted role of AI in reshaping neuroscience, from scientific advancements to ethical and societal implications.\n"
     ]
    }
   ],
   "source": [
    "# Install only the required packages\n",
    "!pip install langchain langchain-cohere gdown -q\n",
    "\n",
    "# Imports\n",
    "import os\n",
    "import gdown\n",
    "from kaggle_secrets import UserSecretsClient\n",
    "from langchain_cohere import ChatCohere\n",
    "from langchain_core.prompts import ChatPromptTemplate\n",
    "from langchain_core.documents import Document\n",
    "from langchain.chains.combine_documents import create_stuff_documents_chain\n",
    "\n",
    "# Set API key\n",
    "os.environ[\"COHERE_API_KEY\"] = UserSecretsClient().get_secret(\"COHERE_API_KEY\")\n",
    "\n",
    "# Download input text\n",
    "gdown.download(id='1HiegCS_Mqc4QUSXBotGxDATNaY-Ihqhv', output='ai_article.txt', quiet=True)\n",
    "\n",
    "# Read and display input\n",
    "with open('ai_article.txt', encoding='utf-8') as f:\n",
    "    text = f.read()\n",
    "\n",
    "print(\"==== PROVIDED TEXT ====\")\n",
    "print(text)\n",
    "\n",
    "# Run LangChain with Cohere\n",
    "print(\"\\n==== MODEL RESPONSE ====\")\n",
    "\n",
    "llm = ChatCohere(model=\"command-a-03-2025\", cohere_api_key=os.environ[\"COHERE_API_KEY\"])\n",
    "prompt = ChatPromptTemplate.from_messages([\n",
    "    (\"human\", \"Extract a list of ways AI is reshaping Neuroscience:\\n\\n{context}\")\n",
    "])\n",
    "chain = create_stuff_documents_chain(llm, prompt)\n",
    "res = chain.invoke({\"context\": [Document(page_content=text)]})\n",
    "\n",
    "# Print the output\n",
    "print(res.strip() if isinstance(res, str) else \"\\n\".join(res) if isinstance(res, list) else res)"
   ]
  },
  {
   "cell_type": "code",
   "execution_count": null,
   "metadata": {
    "trusted": true
   },
   "outputs": [],
   "source": []
  }
 ],
 "metadata": {
  "kaggle": {
   "accelerator": "none",
   "dataSources": [],
   "dockerImageVersionId": 31040,
   "isGpuEnabled": false,
   "isInternetEnabled": true,
   "language": "python",
   "sourceType": "notebook"
  },
  "kernelspec": {
   "display_name": "Python 3",
   "language": "python",
   "name": "python3"
  },
  "language_info": {
   "codemirror_mode": {
    "name": "ipython",
    "version": 3
   },
   "file_extension": ".py",
   "mimetype": "text/x-python",
   "name": "python",
   "nbconvert_exporter": "python",
   "pygments_lexer": "ipython3",
   "version": "3.11.11"
  }
 },
 "nbformat": 4,
 "nbformat_minor": 4
}
