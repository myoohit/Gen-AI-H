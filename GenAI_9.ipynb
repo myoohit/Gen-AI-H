{
 "cells": [
  {
   "cell_type": "code",
   "execution_count": null,
   "metadata": {
    "_cell_guid": "b1076dfc-b9ad-4769-8c92-a6c4dae69d19",
    "_uuid": "8f2839f25d086af736a60e9eeb907d3b93b6e0e5",
    "trusted": true
   },
   "outputs": [],
   "source": [
    "import numpy as np # linear algebra\n",
    "import pandas as pd # data processing, CSV file I/O (e.g. pd.read_csv)\n",
    "import os\n",
    "\n",
    "for dirname, _, filenames in os.walk('/kaggle/input'):\n",
    "    for filename in filenames:\n",
    "        print(os.path.join(dirname, filename))"
   ]
  },
  {
   "cell_type": "code",
   "execution_count": 4,
   "metadata": {
    "execution": {
     "iopub.execute_input": "2025-05-29T16:05:30.286136Z",
     "iopub.status.busy": "2025-05-29T16:05:30.285762Z",
     "iopub.status.idle": "2025-05-29T16:05:36.014692Z",
     "shell.execute_reply": "2025-05-29T16:05:36.013549Z",
     "shell.execute_reply.started": "2025-05-29T16:05:30.286102Z"
    },
    "trusted": true
   },
   "outputs": [
    {
     "name": "stdout",
     "output_type": "stream",
     "text": [
      "Here are the extracted information and summary:\n",
      "\n",
      "**Founder:** Thomas P John\n",
      "**Year Founded:** 2006\n",
      "**Number of Branches/Campuses:** 1 (part of T John Group of Institutions, which has expanded to include new departments and blocks and spread over an area of 20 acres)\n",
      "**Number of Employees:** Not mentioned\n",
      "\n",
      "**4-line Summary:**\n",
      "T. John Institute of Technology is a private engineering college located in Bangalore, Karnataka, India. It offers undergraduate and postgraduate programs and is affiliated to Visvesvaraya Technological University and approved by AICTE. The college has expanded to offer B.E. degrees in six streams of engineering and two postgraduate courses. It has various departments, facilities, and extracurricular activities, including a digital library, auditorium, laboratory, and hostel.\n"
     ]
    }
   ],
   "source": [
    "# Install only required packages\n",
    "!pip install langchain langchain-community langchain-groq wikipedia groq -q\n",
    "\n",
    "# Imports\n",
    "import os\n",
    "import wikipedia\n",
    "from kaggle_secrets import UserSecretsClient\n",
    "from langchain.prompts import PromptTemplate\n",
    "from langchain_groq import ChatGroq\n",
    "from langchain_core.documents import Document\n",
    "from langchain.chains.combine_documents import create_stuff_documents_chain\n",
    "\n",
    "# API key setup\n",
    "user_secrets = UserSecretsClient()\n",
    "os.environ[\"GROQ_API_KEY\"] = user_secrets.get_secret(\"GROQ_API_KEY\")\n",
    "\n",
    "# LangChain LLM setup\n",
    "llm = ChatGroq(model_name=\"llama3-70b-8192\")\n",
    "\n",
    "# Define how the LLM should summarize Wikipedia content\n",
    "prompt = PromptTemplate(\n",
    "    input_variables=[\"context\"],\n",
    "    template=\"\"\"\n",
    "Given the following Wikipedia article content, extract:\n",
    "- Founder\n",
    "- Year Founded\n",
    "- Number of Branches/Campuses\n",
    "- Number of Employees\n",
    "- A 4-line summary\n",
    "\n",
    "Content:\n",
    "{context}\n",
    "\"\"\"\n",
    ")\n",
    "\n",
    "# Combine Wikipedia document with the prompt\n",
    "chain = create_stuff_documents_chain(llm=llm, prompt=prompt)\n",
    "\n",
    "# Institution Wikipedia lookup\n",
    "institution_name = \"T John Institute of Technology\"\n",
    "try:\n",
    "    wiki_content = wikipedia.page(institution_name).content\n",
    "    doc = Document(page_content=wiki_content)\n",
    "    result = chain.invoke({\"context\": [doc]})\n",
    "    print(result.strip() if isinstance(result, str) else result)\n",
    "except wikipedia.exceptions.PageError:\n",
    "    print(f\"No page found for '{institution_name}'.\")\n",
    "except wikipedia.exceptions.DisambiguationError as e:\n",
    "    print(f\"Ambiguous institution name. Suggestions: {e.options[:5]}\")"
   ]
  }
 ],
 "metadata": {
  "kaggle": {
   "accelerator": "none",
   "dataSources": [],
   "dockerImageVersionId": 31040,
   "isGpuEnabled": false,
   "isInternetEnabled": true,
   "language": "python",
   "sourceType": "notebook"
  },
  "kernelspec": {
   "display_name": "Python 3",
   "language": "python",
   "name": "python3"
  },
  "language_info": {
   "codemirror_mode": {
    "name": "ipython",
    "version": 3
   },
   "file_extension": ".py",
   "mimetype": "text/x-python",
   "name": "python",
   "nbconvert_exporter": "python",
   "pygments_lexer": "ipython3",
   "version": "3.11.11"
  }
 },
 "nbformat": 4,
 "nbformat_minor": 4
}
