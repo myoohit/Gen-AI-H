{
 "cells": [
  {
   "cell_type": "code",
   "execution_count": null,
   "metadata": {
    "_cell_guid": "b1076dfc-b9ad-4769-8c92-a6c4dae69d19",
    "_uuid": "8f2839f25d086af736a60e9eeb907d3b93b6e0e5",
    "execution": {
     "iopub.status.busy": "2025-05-29T22:45:37.885446Z",
     "iopub.status.idle": "2025-05-29T22:45:37.885742Z",
     "shell.execute_reply": "2025-05-29T22:45:37.885614Z",
     "shell.execute_reply.started": "2025-05-29T22:45:37.885597Z"
    },
    "trusted": true
   },
   "outputs": [],
   "source": [
    "import numpy as np # linear algebra\n",
    "import pandas as pd # data processing, CSV file I/O (e.g. pd.read_csv)\n",
    "\n",
    "import os\n",
    "for dirname, _, filenames in os.walk('/kaggle/input'):\n",
    "    for filename in filenames:\n",
    "        print(os.path.join(dirname, filename))"
   ]
  },
  {
   "cell_type": "code",
   "execution_count": 5,
   "metadata": {
    "execution": {
     "iopub.execute_input": "2025-05-29T22:46:35.001363Z",
     "iopub.status.busy": "2025-05-29T22:46:35.000725Z",
     "iopub.status.idle": "2025-05-29T22:46:40.463555Z",
     "shell.execute_reply": "2025-05-29T22:46:40.462627Z",
     "shell.execute_reply.started": "2025-05-29T22:46:35.001333Z"
    },
    "trusted": true
   },
   "outputs": [
    {
     "name": "stdout",
     "output_type": "stream",
     "text": [
      "Here are the extracted information and summary:\n",
      "\n",
      "**Founder:** Thomas P John\n",
      "\n",
      "**Year Founded:** 2006 (although the T. John Group of Institutions was established in 1993)\n",
      "\n",
      "**Number of Branches/Campuses:** Not specified, but it's a single college with multiple departments\n",
      "\n",
      "**Number of Employees:** Not specified\n",
      "\n",
      "**4-line Summary:**\n",
      "T. John Institute of Technology is a private engineering college in Bangalore, India. It was established in 2006 and offers undergraduate and postgraduate programmes in six streams of engineering. The college has expanded to include various departments, facilities, and extracurricular activities. It is affiliated to Visvesvaraya Technological University and approved by All India Council for Technical Education.\n"
     ]
    }
   ],
   "source": [
    "# Install only required packages\n",
    "!pip install langchain langchain-community langchain-groq wikipedia groq -q\n",
    "\n",
    "# Imports\n",
    "import os\n",
    "import wikipedia\n",
    "from kaggle_secrets import UserSecretsClient\n",
    "from langchain_core.prompts import ChatPromptTemplate\n",
    "from langchain_groq import ChatGroq\n",
    "from langchain_core.documents import Document\n",
    "from langchain.chains.combine_documents import create_stuff_documents_chain\n",
    "\n",
    "# API key setup\n",
    "user_secrets = UserSecretsClient()\n",
    "os.environ[\"GROQ_API_KEY\"] = user_secrets.get_secret(\"GROQ_API_KEY\")\n",
    "\n",
    "# LangChain LLM setup\n",
    "llm = ChatGroq(model_name=\"llama3-70b-8192\")\n",
    "\n",
    "# Define how the LLM should summarize Wikipedia content\n",
    "prompt = ChatPromptTemplate.from_messages([\n",
    "    ( \"human\", \"\"\"\n",
    "    Given the following Wikipedia article content, extract:\n",
    "    - Founder\n",
    "    - Year Founded\n",
    "    - Number of Branches/Campuses\n",
    "    - Number of Employees\n",
    "    - A 4-line summary\n",
    "\n",
    "    Content:\n",
    "    {context}\n",
    "    \"\"\"\n",
    ")])\n",
    "\n",
    "# Combine Wikipedia document with the prompt\n",
    "chain = create_stuff_documents_chain(llm=llm, prompt=prompt)\n",
    "\n",
    "# Institution Wikipedia lookup\n",
    "institution_name = \"T John Institute of Technology\"\n",
    "wiki_content = wikipedia.page(institution_name).content\n",
    "doc = Document(page_content=wiki_content)\n",
    "result = chain.invoke({\"context\": [doc]})\n",
    "print(result.strip() if isinstance(result, str) else result)"
   ]
  },
  {
   "cell_type": "code",
   "execution_count": null,
   "metadata": {
    "trusted": true
   },
   "outputs": [],
   "source": []
  }
 ],
 "metadata": {
  "kaggle": {
   "accelerator": "none",
   "dataSources": [],
   "dockerImageVersionId": 31040,
   "isGpuEnabled": false,
   "isInternetEnabled": true,
   "language": "python",
   "sourceType": "notebook"
  },
  "kernelspec": {
   "display_name": "base",
   "language": "python",
   "name": "python3"
  },
  "language_info": {
   "codemirror_mode": {
    "name": "ipython",
    "version": 3
   },
   "file_extension": ".py",
   "mimetype": "text/x-python",
   "name": "python",
   "nbconvert_exporter": "python",
   "pygments_lexer": "ipython3",
   "version": "3.12.4"
  }
 },
 "nbformat": 4,
 "nbformat_minor": 4
}
