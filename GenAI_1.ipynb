{
 "cells": [
  {
   "cell_type": "code",
   "execution_count": 1,
   "metadata": {
    "_cell_guid": "b1076dfc-b9ad-4769-8c92-a6c4dae69d19",
    "_uuid": "8f2839f25d086af736a60e9eeb907d3b93b6e0e5",
    "execution": {
     "iopub.execute_input": "2025-06-04T17:20:58.426560Z",
     "iopub.status.busy": "2025-06-04T17:20:58.426252Z",
     "iopub.status.idle": "2025-06-04T17:21:00.720099Z",
     "shell.execute_reply": "2025-06-04T17:21:00.718278Z",
     "shell.execute_reply.started": "2025-06-04T17:20:58.426536Z"
    },
    "trusted": true
   },
   "outputs": [
    {
     "name": "stdout",
     "output_type": "stream",
     "text": [
      "/kaggle/input/google-word2vec/GoogleNews-vectors-negative300.bin\n"
     ]
    }
   ],
   "source": [
    "import numpy as np # linear algebra\n",
    "import pandas as pd # data processing, CSV file I/O (e.g. pd.read_csv)\n",
    "\n",
    "import os\n",
    "for dirname, _, filenames in os.walk('/kaggle/input'):\n",
    "    for filename in filenames:\n",
    "        print(os.path.join(dirname, filename))"
   ]
  },
  {
   "cell_type": "code",
   "execution_count": null,
   "metadata": {
    "execution": {
     "iopub.execute_input": "2025-06-04T17:29:38.872700Z",
     "iopub.status.busy": "2025-06-04T17:29:38.868614Z",
     "iopub.status.idle": "2025-06-04T17:30:30.557548Z",
     "shell.execute_reply": "2025-06-04T17:30:30.556438Z",
     "shell.execute_reply.started": "2025-06-04T17:29:38.872623Z"
    },
    "trusted": true
   },
   "outputs": [
    {
     "name": "stdout",
     "output_type": "stream",
     "text": [
      "Requirement already satisfied: gensim in /usr/local/lib/python3.11/dist-packages (4.3.3)\n",
      "Requirement already satisfied: numpy<2.0,>=1.18.5 in /usr/local/lib/python3.11/dist-packages (from gensim) (1.26.4)\n",
      "Requirement already satisfied: scipy<1.14.0,>=1.7.0 in /usr/local/lib/python3.11/dist-packages (from gensim) (1.13.1)\n",
      "Requirement already satisfied: smart-open>=1.8.1 in /usr/local/lib/python3.11/dist-packages (from gensim) (7.1.0)\n",
      "Requirement already satisfied: mkl_fft in /usr/local/lib/python3.11/dist-packages (from numpy<2.0,>=1.18.5->gensim) (1.3.8)\n",
      "Requirement already satisfied: mkl_random in /usr/local/lib/python3.11/dist-packages (from numpy<2.0,>=1.18.5->gensim) (1.2.4)\n",
      "Requirement already satisfied: mkl_umath in /usr/local/lib/python3.11/dist-packages (from numpy<2.0,>=1.18.5->gensim) (0.1.1)\n",
      "Requirement already satisfied: mkl in /usr/local/lib/python3.11/dist-packages (from numpy<2.0,>=1.18.5->gensim) (2025.1.0)\n",
      "Requirement already satisfied: tbb4py in /usr/local/lib/python3.11/dist-packages (from numpy<2.0,>=1.18.5->gensim) (2022.1.0)\n",
      "Requirement already satisfied: mkl-service in /usr/local/lib/python3.11/dist-packages (from numpy<2.0,>=1.18.5->gensim) (2.4.1)\n",
      "Requirement already satisfied: wrapt in /usr/local/lib/python3.11/dist-packages (from smart-open>=1.8.1->gensim) (1.17.2)\n",
      "Requirement already satisfied: intel-openmp<2026,>=2024 in /usr/local/lib/python3.11/dist-packages (from mkl->numpy<2.0,>=1.18.5->gensim) (2024.2.0)\n",
      "Requirement already satisfied: tbb==2022.* in /usr/local/lib/python3.11/dist-packages (from mkl->numpy<2.0,>=1.18.5->gensim) (2022.1.0)\n",
      "Requirement already satisfied: tcmlib==1.* in /usr/local/lib/python3.11/dist-packages (from tbb==2022.*->mkl->numpy<2.0,>=1.18.5->gensim) (1.3.0)\n",
      "Requirement already satisfied: intel-cmplr-lib-rt in /usr/local/lib/python3.11/dist-packages (from mkl_umath->numpy<2.0,>=1.18.5->gensim) (2024.2.0)\n",
      "Requirement already satisfied: intel-cmplr-lib-ur==2024.2.0 in /usr/local/lib/python3.11/dist-packages (from intel-openmp<2026,>=2024->mkl->numpy<2.0,>=1.18.5->gensim) (2024.2.0)\n",
      "Loading pre-trained word vectors...\n",
      "word2vec loaded successfully!\n",
      "\n",
      "Word Relationship: paris - france + germany\n",
      "Most similar words to the result (excluding input words):\n",
      "berlin: 0.4838\n",
      "german: 0.4695\n",
      "lindsay_lohan: 0.4536\n",
      "switzerland: 0.4468\n",
      "heidi: 0.4445\n",
      "\n",
      "Word Relationship: apple - fruit + carrot\n",
      "Most similar words to the result (excluding input words):\n",
      "carrots: 0.5700\n",
      "proverbial_carrot: 0.4578\n",
      "Carrot: 0.4159\n",
      "Twizzler: 0.4074\n",
      "peppermint_candy: 0.4074\n",
      "\n",
      "Similarity between 'cat' and 'dog': 0.7609\n",
      "\n",
      "Similarity between 'computer' and 'keyboard': 0.3964\n",
      "\n",
      "Similarity between 'music' and 'art': 0.4010\n",
      "\n",
      "Most similar words to 'happy':\n",
      "glad: 0.7409\n",
      "pleased: 0.6632\n",
      "ecstatic: 0.6627\n",
      "overjoyed: 0.6599\n",
      "thrilled: 0.6514\n",
      "\n",
      "Most similar words to 'sad':\n",
      "saddening: 0.7273\n",
      "Sad: 0.6611\n",
      "saddened: 0.6604\n",
      "heartbreaking: 0.6574\n",
      "disheartening: 0.6507\n",
      "\n",
      "Most similar words to 'technology':\n",
      "technologies: 0.8332\n",
      "innovations: 0.6231\n",
      "technological_innovations: 0.6102\n",
      "technol: 0.6047\n",
      "technological_advancement: 0.6036\n"
     ]
    }
   ],
   "source": [
    "# Install & import\n",
    "!pip install gensim\n",
    "from gensim.models import KeyedVectors\n",
    "\n",
    "# Load vectors\n",
    "print(\"Loading pre-trained word vectors...\")\n",
    "model_path = \"/kaggle/input/google-word2vec/GoogleNews-vectors-negative300.bin\"\n",
    "wv = KeyedVectors.load_word2vec_format(model_path, binary=True)\n",
    "print(\"word2vec loaded successfully!\")\n",
    "\n",
    "# Vector arithmetic\n",
    "def explore(w1, w2, w3):\n",
    "    vec = wv[w1] - wv[w2] + wv[w3]\n",
    "    res = [(w, s) for w, s in wv.similar_by_vector(vec, topn=10) if w not in {w1, w2, w3}]\n",
    "    print(f\"\\nWord Relationship: {w1} - {w2} + {w3}\")\n",
    "    print(\"Most similar words to the result (excluding input words):\")\n",
    "    for w, s in res[:5]:\n",
    "        print(f\"{w}: {s:.4f}\")\n",
    "\n",
    "\n",
    "# Similarity check\n",
    "def sim(w1, w2):\n",
    "    print(f\"\\nSimilarity between '{w1}' and '{w2}': {wv.similarity(w1, w2):.4f}\")\n",
    "\n",
    "\n",
    "# Most similar\n",
    "def similar(w):\n",
    "    print(f\"\\nMost similar words to '{w}':\")\n",
    "    for w2, s in wv.most_similar(w, topn=5):\n",
    "        print(f\"{w2}: {s:.4f}\")\n",
    "\n",
    "# Examples\n",
    "explore(\"paris\", \"france\", \"germany\")\n",
    "explore(\"apple\", \"fruit\", \"carrot\")\n",
    "sim(\"cat\", \"dog\")\n",
    "sim(\"computer\", \"keyboard\")\n",
    "sim(\"music\", \"art\")\n",
    "similar(\"happy\")\n",
    "similar(\"sad\")\n",
    "similar(\"technology\")"
   ]
  },
  {
   "cell_type": "code",
   "execution_count": null,
   "metadata": {
    "trusted": true
   },
   "outputs": [],
   "source": []
  }
 ],
 "metadata": {
  "kaggle": {
   "accelerator": "none",
   "dataSources": [
    {
     "datasetId": 1595713,
     "sourceId": 2624724,
     "sourceType": "datasetVersion"
    }
   ],
   "dockerImageVersionId": 31040,
   "isGpuEnabled": false,
   "isInternetEnabled": true,
   "language": "python",
   "sourceType": "notebook"
  },
  "kernelspec": {
   "display_name": "Python 3",
   "language": "python",
   "name": "python3"
  },
  "language_info": {
   "codemirror_mode": {
    "name": "ipython",
    "version": 3
   },
   "file_extension": ".py",
   "mimetype": "text/x-python",
   "name": "python",
   "nbconvert_exporter": "python",
   "pygments_lexer": "ipython3",
   "version": "3.11.11"
  }
 },
 "nbformat": 4,
 "nbformat_minor": 4
}
